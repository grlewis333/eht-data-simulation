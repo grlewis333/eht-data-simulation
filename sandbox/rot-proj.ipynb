{
 "cells": [
  {
   "cell_type": "code",
   "execution_count": 1,
   "metadata": {},
   "outputs": [],
   "source": [
    "# import\n",
    "\n",
    "import numpy as np\n",
    "from matplotlib import pyplot as plt\n",
    "from mpl_toolkits.mplot3d import Axes3D\n",
    "%matplotlib qt"
   ]
  },
  {
   "cell_type": "code",
   "execution_count": 2,
   "metadata": {},
   "outputs": [
    {
     "name": "stdout",
     "output_type": "stream",
     "text": [
      "The data imported has dimensions 200.0 x 200.0 x 200.0 nm,\n",
      "and resolution 1.0 x 1.0 x 1.0 nm.\n",
      "There are a total of 200 slices in z.\n"
     ]
    },
    {
     "data": {
      "image/png": "[encoded data removed]",
      "text/plain": [
       "<Figure size 432x288 with 1 Axes>"
      ]
     },
     "metadata": {
      "needs_background": "light"
     },
     "output_type": "display_data"
    }
   ],
   "source": [
    "# Generate micromagnetic data\n",
    "\n",
    "# Generate x,y,z value\n",
    "n = 200 # number of nodes in each dimension (nxnxn grid)\n",
    "ndet = n\n",
    "size_n = 1 # length in nm of each node\n",
    "xs = np.linspace(-n * (size_n/2),n * (size_n/2)-size_n,n)\n",
    "ys = np.linspace(-n * (size_n/2),n * (size_n/2)-size_n,n)\n",
    "zs = np.linspace(-n * (size_n/2),n * (size_n/2)-size_n,n)\n",
    "xx, yy, zz = np.meshgrid(xs,ys, zs,indexing='ij')\n",
    "nx = xx.reshape(n**3)\n",
    "ny = yy.reshape(n**3)\n",
    "nz = zz.reshape(n**3)\n",
    "coor = np.array([nx,ny,nz]).T\n",
    "\n",
    "# Define gradient/intercept of bounding lines\n",
    "m1, c1 = 5, 100\n",
    "m2, c2 = 0, -25\n",
    "m3, c3 = -0.6, 0\n",
    "\n",
    "data = []\n",
    "for x in xs:\n",
    "    for y in ys:\n",
    "        for z in zs:\n",
    "            if y < (m1*x+c1) and y > (m2*x + c2) and y < (m3*x + c3) and z >-10 and z<40:\n",
    "                m = [1,0,0]\n",
    "                data.append([x,y,z,m[0],m[1],m[2]])\n",
    "            else:\n",
    "                m = [0,0,0]\n",
    "                data.append([x,y,z,m[0],m[1],m[2]])\n",
    "                \n",
    "Mxx = np.take(data,3,axis=1)\n",
    "Myy = np.take(data,4,axis=1)\n",
    "Mzz = np.take(data,5,axis=1)\n",
    "\n",
    "Mxx = Mxx.reshape(len(xs),len(ys),len(zs))\n",
    "Myy = Myy.reshape(len(xs),len(ys),len(zs))\n",
    "Mzz = Mzz.reshape(len(xs),len(ys),len(zs))\n",
    "\n",
    "# plot\n",
    "# in this case plot the Mx values as slice z= 50 \n",
    "%matplotlib inline\n",
    "s=5\n",
    "plt.quiver(xx[::s,::s,round(n/2)],yy[::s,::s,round(n/2)],Mxx[::s,::s,round(n/2)],Myy[::s,::s,round(n/2)],pivot='mid',scale=20)\n",
    "plt.imshow(np.flipud(Mxx[:,:,round(n/2)].T), extent=[-n/2,n/2,-n/2,n/2],cmap='Blues',vmin=0,vmax=1)\n",
    "\n",
    "m_x, m_y, m_z = Mxx, Myy, Mzz\n",
    "MX, MY, MZ = Mxx, Myy, Mzz\n",
    "\n",
    "ave_m_x = Mxx.mean(axis=2) # I'm not sure this is appropriate becasue it will include zeros\n",
    "ave_m_y = Myy.mean(axis=2)\n",
    "ave_m_z = Mzz.mean(axis=2)\n",
    "\n",
    "# Array with unique z coordinates\n",
    "xuni = np.unique(coor[:,0])\n",
    "yuni = np.unique(coor[:,1])\n",
    "zuni = np.unique(coor[:,2])\n",
    "\n",
    "# Length of each dimension\n",
    "x_len = len(xuni)\n",
    "y_len = len(yuni)\n",
    "z_len = len(zuni)\n",
    "\n",
    "# Generate mesh\n",
    "X, Y, Z = np.meshgrid(xuni, yuni, zuni, indexing='ij')\n",
    "\n",
    "# Recover x/y values (for non-rotated data)\n",
    "x_proj = np.average(X,axis=2)\n",
    "y_proj = np.average(Y,axis=2)\n",
    "\n",
    "# Calculate x/y values (for projected data)\n",
    "det = (ndet,ndet)\n",
    "x2 = np.linspace(xuni[0],xuni[-1],det[0])\n",
    "y2 = np.linspace(yuni[0],yuni[-1],det[0])\n",
    "x_proj2, y_proj2 = np.meshgrid(x2, y2, indexing='ij')\n",
    "\n",
    "# Calculate grid spacing\n",
    "x_res = (xuni[1]-xuni[0])\n",
    "y_res = (yuni[1]-yuni[0])\n",
    "z_res = (zuni[1]-zuni[0])\n",
    "\n",
    "# Limits of grid\n",
    "x_begin = xuni[0] - 0.5*x_res\n",
    "x_end = xuni[-1] + 0.5*x_res\n",
    "y_begin = yuni[0] - 0.5*y_res\n",
    "y_end = yuni[-1] + 0.5*y_res\n",
    "z_begin = zuni[0] - 0.5*z_res\n",
    "z_end = zuni[-1] + 0.5*z_res\n",
    "\n",
    "# Calculate size of grid\n",
    "x_size = (x_end-x_begin)\n",
    "y_size = (y_end-y_begin)\n",
    "z_size = (z_end-z_begin)\n",
    "\n",
    "# Confirm the dimensions of the image and resolution for the user.\n",
    "sym_details = 'The data imported has dimensions ' + str(x_size) + ' x ' + str(y_size) + ' x ' + str(z_size) + ' nm,\\n'\n",
    "sym_details += 'and resolution ' + str(x_res) + ' x ' + str(y_res) + ' x ' + str(z_res) + ' nm.\\n'\n",
    "sym_details += 'There are a total of ' + str(z_len) + ' slices in z.'\n",
    "print(sym_details)"
   ]
  },
  {
   "cell_type": "code",
   "execution_count": 167,
   "metadata": {},
   "outputs": [
    {
     "data": {
      "text/plain": [
       "Text(0.5, 0, 'z')"
      ]
     },
     "execution_count": 167,
     "metadata": {},
     "output_type": "execute_result"
    }
   ],
   "source": [
    "# plot in 3D\n",
    "\n",
    "fig = plt.figure(figsize=(8,8))\n",
    "ax = fig.gca(projection='3d')\n",
    "s = 5\n",
    "#a, b, c, d, e, f = X,Y,Z,MX,MY,MZ\n",
    "a, b, c, d, e, f = Xr,Yr,Zr,MXr,MYr,MZr\n",
    "ax.quiver(a[::s,::s,::s], b[::s,::s,::s], c[::s,::s,::s], d[::s,::s,::s], e[::s,::s,::s], f[::s,::s,::s],length = 5,alpha=0.5,linewidth=3,color='k')\n",
    "\n",
    "ax.quiver(np.min(a),np.min(b),np.min(c),np.max(a)-np.min(a),0,0, color='red', length=1)\n",
    "ax.quiver(np.min(a),np.min(b),np.min(c),0,np.max(b)-np.min(b),0, color='blue', length=1)\n",
    "ax.quiver(np.min(a),np.min(b),np.min(c),0,0,np.max(c)-np.min(c), color='green', length=1)\n",
    "\n",
    "\n",
    "plt.xlabel('x', fontsize=20)\n",
    "plt.ylabel('y', fontsize=20)\n",
    "ax.set_zlabel('z', fontsize=20)"
   ]
  },
  {
   "cell_type": "code",
   "execution_count": 9,
   "metadata": {},
   "outputs": [],
   "source": [
    "# define rotation matrix function\n",
    "import numpy as np\n",
    "import math\n",
    "\n",
    "def rotation_matrix(axis, theta):\n",
    "    \"\"\"\n",
    "    Return the rotation matrix associated with counterclockwise rotation about\n",
    "    the given axis by theta radians.\n",
    "    \"\"\"\n",
    "    axis = np.asarray(axis)\n",
    "    axis = axis / math.sqrt(np.dot(axis, axis))\n",
    "    a = math.cos(theta / 2.0)\n",
    "    b, c, d = -axis * math.sin(theta / 2.0)\n",
    "    aa, bb, cc, dd = a * a, b * b, c * c, d * d\n",
    "    bc, ad, ac, ab, bd, cd = b * c, a * d, a * c, a * b, b * d, c * d\n",
    "    return np.array([[aa + bb - cc - dd, 2 * (bc + ad), 2 * (bd - ac)],\n",
    "                     [2 * (bc - ad), aa + cc - bb - dd, 2 * (cd + ab)],\n",
    "                     [2 * (bd + ac), 2 * (cd - ab), aa + dd - bb - cc]])\n"
   ]
  },
  {
   "cell_type": "code",
   "execution_count": 10,
   "metadata": {},
   "outputs": [],
   "source": [
    "# define function for converting A1,A2,A3 where each is (nxnxn) into B where it is (n**3 x 3)\n",
    "\n",
    "def grids_to_vecs(A1,A2,A3):\n",
    "    n = np.shape(A1)[0]\n",
    "    A1 = A1.reshape(n**3)\n",
    "    A2 = A2.reshape(n**3)\n",
    "    A3 = A3.reshape(n**3)\n",
    "    B = []\n",
    "    for i in range(n**3):\n",
    "        B.append([A1[i],A2[i],A3[i]])\n",
    "    B = np.array(B)\n",
    "    return B"
   ]
  },
  {
   "cell_type": "code",
   "execution_count": 11,
   "metadata": {},
   "outputs": [],
   "source": [
    "def apply_rotation(B, mrot):\n",
    "    B_rot = []\n",
    "    \n",
    "    for r in B:\n",
    "        r_rot = np.dot(mrot,r)\n",
    "        B_rot.append(r_rot)\n",
    "        \n",
    "    B_rot = np.asarray(B_rot)\n",
    "    \n",
    "    return B_rot"
   ]
  },
  {
   "cell_type": "code",
   "execution_count": 12,
   "metadata": {},
   "outputs": [],
   "source": [
    "def vecs_to_grids(B):\n",
    "    A1 = B.T[0]\n",
    "    A2 = B.T[1]\n",
    "    A3 = B.T[2]\n",
    "    \n",
    "    n = int(np.round(B.shape[0]**(1/3)))\n",
    "    \n",
    "    A1 = A1.reshape((n,n,n))\n",
    "    A2 = A2.reshape(n,n,n)\n",
    "    A3 = A3.reshape((n,n,n))\n",
    "    \n",
    "    return A1, A2, A3"
   ]
  },
  {
   "cell_type": "code",
   "execution_count": 13,
   "metadata": {},
   "outputs": [],
   "source": [
    "# function to rotate grids of data\n",
    "def rotate_gridded_data(A1,A2,A3, axis, theta):\n",
    "    # create rotation matrix\n",
    "    mrot = rotation_matrix(axis, theta)\n",
    "    \n",
    "    # convert grid matrices into array of vectors\n",
    "    B = grids_to_vecs(A1,A2,A3)\n",
    "    \n",
    "    # apply rotation matrix to vectors\n",
    "    B_rot = apply_rotation(B,mrot)\n",
    "    \n",
    "    # convert vectors back to grids\n",
    "    A1_rot, A2_rot, A3_rot = vecs_to_grids(B_rot)\n",
    "    \n",
    "    return A1_rot, A2_rot, A3_rot"
   ]
  },
  {
   "cell_type": "code",
   "execution_count": 14,
   "metadata": {},
   "outputs": [
    {
     "name": "stdout",
     "output_type": "stream",
     "text": [
      "Time 1:  25.54368774300019\n",
      "Time 2:  23.695660067000063\n"
     ]
    }
   ],
   "source": [
    "import timeit\n",
    "\n",
    "axis = [0, 0, 1]\n",
    "theta = np.pi/4\n",
    "\n",
    "start = timeit.default_timer()\n",
    "Xr,Yr,Zr = rotate_gridded_data(X,Y,Z,axis,theta)\n",
    "stop = timeit.default_timer()\n",
    "\n",
    "print('Time 1: ', stop - start)  \n",
    "\n",
    "start = timeit.default_timer()\n",
    "MXr, MYr, MZr = rotate_gridded_data(MX,MY,MZ,axis,theta)\n",
    "stop = timeit.default_timer()\n",
    "\n",
    "print('Time 2: ', stop - start) "
   ]
  },
  {
   "cell_type": "code",
   "execution_count": null,
   "metadata": {},
   "outputs": [],
   "source": [
    "import scipy.interpolate\n",
    "\n",
    "coor = grids_to_vecs(X,Y,Z)\n",
    "#output_x = scipy.interpolate.griddata(coor,MX.reshape(200**3),(Xr,Yr,Zr),method='linear',fill_value=0)"
   ]
  },
  {
   "cell_type": "code",
   "execution_count": 172,
   "metadata": {},
   "outputs": [
    {
     "data": {
      "text/plain": [
       "(200, 200, 200)"
      ]
     },
     "execution_count": 172,
     "metadata": {},
     "output_type": "execute_result"
    }
   ],
   "source": [
    "Xr.shape"
   ]
  },
  {
   "cell_type": "code",
   "execution_count": 152,
   "metadata": {},
   "outputs": [
    {
     "data": {
      "text/plain": [
       "<matplotlib.image.AxesImage at 0x7f61bad1f940>"
      ]
     },
     "execution_count": 152,
     "metadata": {},
     "output_type": "execute_result"
    }
   ],
   "source": [
    "avg_mxr = np.mean(MXr, axis=2)\n",
    "plt.imshow(avg_mxr)"
   ]
  },
  {
   "cell_type": "code",
   "execution_count": 3,
   "metadata": {},
   "outputs": [],
   "source": [
    "u = np.concatenate([thing.reshape(*thing.shape[:3],1) for thing in (X, Y, Z)], axis=3)"
   ]
  },
  {
   "cell_type": "code",
   "execution_count": 8,
   "metadata": {},
   "outputs": [
    {
     "data": {
      "text/plain": [
       "(200, 200, 200)"
      ]
     },
     "execution_count": 8,
     "metadata": {},
     "output_type": "execute_result"
    }
   ],
   "source": [
    "MX.shape"
   ]
  },
  {
   "cell_type": "code",
   "execution_count": null,
   "metadata": {},
   "outputs": [],
   "source": []
  }
 ],
 "metadata": {
  "kernelspec": {
   "display_name": "Python 3",
   "language": "python",
   "name": "python3"
  },
  "language_info": {
   "codemirror_mode": {
    "name": "ipython",
    "version": 3
   },
   "file_extension": ".py",
   "mimetype": "text/x-python",
   "name": "python",
   "nbconvert_exporter": "python",
   "pygments_lexer": "ipython3",
   "version": "3.6.9"
  }
 },
 "nbformat": 4,
 "nbformat_minor": 4
}
