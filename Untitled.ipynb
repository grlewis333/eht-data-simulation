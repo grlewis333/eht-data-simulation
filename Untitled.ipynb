{
 "cells": [
  {
   "cell_type": "markdown",
   "metadata": {},
   "source": [
    "# Gridding micromagnetic simulations"
   ]
  },
  {
   "cell_type": "code",
   "execution_count": 225,
   "metadata": {},
   "outputs": [],
   "source": [
    "import pandas\n",
    "import numpy as np\n",
    "import scipy.interpolate#\n",
    "from matplotlib import pyplot as plt\n",
    "from mpl_toolkits.mplot3d import Axes3D\n",
    "import copy\n",
    "\n",
    "%matplotlib qt"
   ]
  },
  {
   "cell_type": "markdown",
   "metadata": {},
   "source": [
    "## Data input"
   ]
  },
  {
   "cell_type": "markdown",
   "metadata": {},
   "source": [
    "- Import .dat file with simulated x, y, z, mx, my, mz "
   ]
  },
  {
   "cell_type": "code",
   "execution_count": 135,
   "metadata": {},
   "outputs": [],
   "source": [
    "folder = r'/home/grl31/Dropbox (Cambridge University)/Linux-Surface share/Magnetic simulations/size_hyst_ring3'\n",
    "fname = 'ring3_down.80nm.dat'\n",
    "fpath = folder + '/' + fname\n",
    "\n",
    "# 'fixed width formatted' works directly with even .dat format\n",
    "data = pandas.read_fwf(fpath, header = None)\n",
    "\n",
    "all_x = np.asarray(data[0])\n",
    "all_y = np.asarray(data[1])\n",
    "all_z = np.asarray(data[2])\n",
    "\n",
    "m_x = np.asarray(data[3])\n",
    "m_y = np.asarray(data[4])\n",
    "m_z = np.asarray(data[5])\n",
    "\n",
    "# format to be in an (n,D) array\n",
    "coor = np.array([all_x,all_y,all_z]).T\n",
    "ms = np.array([m_x,m_y,m_z]).T"
   ]
  },
  {
   "cell_type": "markdown",
   "metadata": {},
   "source": [
    "- Generate desired grid (note it should be roughly the same coordinate range)"
   ]
  },
  {
   "cell_type": "code",
   "execution_count": 144,
   "metadata": {},
   "outputs": [
    {
     "name": "stdout",
     "output_type": "stream",
     "text": [
      "x: 12.0 15.0 y: 23.0 26.0 z: 0.0 2.0\n"
     ]
    }
   ],
   "source": [
    "# find boundaries of the dataset\n",
    "xi = np.floor(np.min(all_x))\n",
    "xf = np.ceil(np.max(all_x))\n",
    "yi = np.floor(np.min(all_y))\n",
    "yf = np.ceil(np.max(all_y))\n",
    "zi = np.floor(np.min(all_z))\n",
    "zf = np.ceil(np.max(all_z))\n",
    "\n",
    "# mgrid forms a grid by 'indexing' what you want\n",
    "# note that indexing format is start:stop:stepj\n",
    "grid_x, grid_y, grid_z = np.mgrid[xi:xf:100j, yi:yf:100j, zi:zf:100j]\n",
    "\n",
    "print('x:', xi,xf, 'y:', yi,yf, 'z:', zi,zf)"
   ]
  },
  {
   "cell_type": "markdown",
   "metadata": {},
   "source": [
    "## Interpolate"
   ]
  },
  {
   "cell_type": "code",
   "execution_count": 248,
   "metadata": {},
   "outputs": [],
   "source": [
    "# note that mx, my and mz must be done separately\n",
    "output_x = scipy.interpolate.griddata(coor,m_x,(grid_x,grid_y,grid_z),method='linear',fill_value=0)\n",
    "output_y = scipy.interpolate.griddata(coor,m_y,(grid_x,grid_y,grid_z),method='linear',fill_value=0)\n",
    "output_z = scipy.interpolate.griddata(coor,m_z,(grid_x,grid_y,grid_z),method='linear',fill_value=0)"
   ]
  },
  {
   "cell_type": "markdown",
   "metadata": {},
   "source": [
    "## Mask out hole"
   ]
  },
  {
   "cell_type": "markdown",
   "metadata": {},
   "source": [
    "- For each point in the gridded data, find out how far away it is from one of the original input data points "
   ]
  },
  {
   "cell_type": "code",
   "execution_count": 230,
   "metadata": {},
   "outputs": [],
   "source": [
    "tree = scipy.spatial.cKDTree(coor)\n",
    "d, inds = tree.query(coor_grid, k=1, p=2)"
   ]
  },
  {
   "cell_type": "markdown",
   "metadata": {},
   "source": [
    "- Visually inspect and decide what the threshold distance should be"
   ]
  },
  {
   "cell_type": "code",
   "execution_count": 231,
   "metadata": {},
   "outputs": [
    {
     "data": {
      "text/plain": [
       "<matplotlib.image.AxesImage at 0x7f9f683e97f0>"
      ]
     },
     "execution_count": 231,
     "metadata": {},
     "output_type": "execute_result"
    }
   ],
   "source": [
    "plt.imshow(np.flipud(d[:,:,50]), cmap = 'Blues_r', extent=[xi,xf,yi,yf])"
   ]
  },
  {
   "cell_type": "markdown",
   "metadata": {},
   "source": [
    "- create gridded data mask which is 0 for regions above threshold distance and 1 for those within"
   ]
  },
  {
   "cell_type": "code",
   "execution_count": 235,
   "metadata": {},
   "outputs": [
    {
     "data": {
      "text/plain": [
       "<matplotlib.image.AxesImage at 0x7f9f682a2438>"
      ]
     },
     "execution_count": 235,
     "metadata": {},
     "output_type": "execute_result"
    }
   ],
   "source": [
    "threshold = 0.1\n",
    "i_out = d > threshold\n",
    "i_in = d <= threshold\n",
    "mask = copy.copy(d)\n",
    "mask[i_out] = 0\n",
    "mask[i_in] = 1\n",
    "\n",
    "plt.imshow(mask[:,:,50])"
   ]
  },
  {
   "cell_type": "markdown",
   "metadata": {},
   "source": [
    "- apply mask to output data"
   ]
  },
  {
   "cell_type": "code",
   "execution_count": 249,
   "metadata": {},
   "outputs": [],
   "source": [
    "output_x = output_x * mask.T\n",
    "output_y = output_y * mask.T\n",
    "output_z = output_z * mask.T"
   ]
  },
  {
   "cell_type": "markdown",
   "metadata": {},
   "source": [
    "## Visualise"
   ]
  },
  {
   "cell_type": "markdown",
   "metadata": {},
   "source": [
    "- view xy projection and compare to input data for Mx"
   ]
  },
  {
   "cell_type": "code",
   "execution_count": 251,
   "metadata": {},
   "outputs": [
    {
     "data": {
      "text/plain": [
       "<matplotlib.image.AxesImage at 0x7f9f6b2bcd68>"
      ]
     },
     "execution_count": 251,
     "metadata": {},
     "output_type": "execute_result"
    }
   ],
   "source": [
    "# Input data\n",
    "plt.scatter(all_x,all_y,c=m_x, cmap='RdBu', vmin=-2, vmax= 2,alpha=0.2,marker='.')\n",
    "\n",
    "# Interpolated values\n",
    "mx_proj = np.average(output_x,axis=2)\n",
    "plt.imshow(np.flipud(mx_proj.T), cmap='RdBu', vmin=-1, vmax=1, extent=[xi,xf,yi,yf])"
   ]
  },
  {
   "cell_type": "markdown",
   "metadata": {},
   "source": [
    "- view xy projection of magnetisation as a vector"
   ]
  },
  {
   "cell_type": "code",
   "execution_count": 252,
   "metadata": {},
   "outputs": [
    {
     "data": {
      "text/plain": [
       "<matplotlib.quiver.Quiver at 0x7f9f6aabf630>"
      ]
     },
     "execution_count": 252,
     "metadata": {},
     "output_type": "execute_result"
    }
   ],
   "source": [
    "# average over the z axis for gridded coordinates and gridded magnetisations\n",
    "x_proj = np.average(grid_x,axis=2)\n",
    "y_proj = np.average(grid_y,axis=2)\n",
    "\n",
    "mx_proj = np.average(output_x,axis=2)\n",
    "my_proj= np.average(output_y,axis=2)\n",
    "\n",
    "# Plot magnitude of M_proj in the background\n",
    "M_proj = np.hypot(mx_proj,my_proj)\n",
    "plt.imshow(np.flipud(M_proj.T), extent=[xi,xf,yi,yf], cmap ='Blues', vmin=0,vmax=1)\n",
    "\n",
    "# Plot M_proj as vectors\n",
    "s = 5\n",
    "plt.quiver(x_proj[::s,::s], y_proj[::s,::s], mx_proj[::s,::s], my_proj[::s,::s])"
   ]
  },
  {
   "cell_type": "markdown",
   "metadata": {},
   "source": [
    "- View 3D plot of gridded magnetisation"
   ]
  },
  {
   "cell_type": "code",
   "execution_count": 253,
   "metadata": {},
   "outputs": [
    {
     "data": {
      "text/plain": [
       "Text(0.5, 0, 'z')"
      ]
     },
     "execution_count": 253,
     "metadata": {},
     "output_type": "execute_result"
    }
   ],
   "source": [
    "fig = plt.figure(figsize=(8,8))\n",
    "ax = fig.gca(projection='3d')\n",
    "s = 5\n",
    "\n",
    "# View gridded data\n",
    "a, b, c, d, e, f = grid_x,grid_y,grid_z,output_x,output_y,output_z\n",
    "ax.quiver(a[::s,::s,::s], b[::s,::s,::s], c[::s,::s,::s], d[::s,::s,::s], e[::s,::s,::s], f[::s,::s,::s],length = .3,alpha=0.5,linewidth=3,color='k')\n",
    "\n",
    "# View original input data\n",
    "# a, b, c, d, e, f = all_x,all_y,all_z,m_x,m_y,m_z\n",
    "# ax.quiver(a[::s], b[::s], c[::s], d[::s], e[::s], f[::s],length = 0.1,alpha=0.5,linewidth=3,color='k')\n",
    "\n",
    "plt.xlabel('x', fontsize=20)\n",
    "plt.ylabel('y', fontsize=20)\n",
    "ax.set_zlabel('z', fontsize=20)"
   ]
  }
 ],
 "metadata": {
  "kernelspec": {
   "display_name": "Python 3",
   "language": "python",
   "name": "python3"
  },
  "language_info": {
   "codemirror_mode": {
    "name": "ipython",
    "version": 3
   },
   "file_extension": ".py",
   "mimetype": "text/x-python",
   "name": "python",
   "nbconvert_exporter": "python",
   "pygments_lexer": "ipython3",
   "version": "3.6.9"
  }
 },
 "nbformat": 4,
 "nbformat_minor": 4
}
