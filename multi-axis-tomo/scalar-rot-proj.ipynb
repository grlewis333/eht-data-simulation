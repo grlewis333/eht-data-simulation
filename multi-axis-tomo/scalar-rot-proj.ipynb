{
 "cells": [
  {
   "cell_type": "code",
   "execution_count": 1,
   "metadata": {},
   "outputs": [],
   "source": [
    "import matplotlib.pyplot as plt                 # For normal plotting\n",
    "from mpl_toolkits.mplot3d import proj3d         # For 3D plotting\n",
    "import numpy as np                              # For maths\n",
    "from scipy import ndimage                       # For image rotations\n",
    "import astra                                    # For tomography framework\n",
    "import copy                                     # For deep copying arrays\n",
    "\n",
    "import multi_axis                               # My custom functions"
   ]
  },
  {
   "cell_type": "code",
   "execution_count": 2,
   "metadata": {},
   "outputs": [
    {
     "data": {
      "image/png": "[encoded data removed]",
      "text/plain": [
       "<Figure size 432x576 with 2 Axes>"
      ]
     },
     "metadata": {
      "needs_background": "light"
     },
     "output_type": "display_data"
    },
    {
     "data": {
      "image/png": "[encoded data removed]",
      "text/plain": [
       "<Figure size 432x576 with 2 Axes>"
      ]
     },
     "metadata": {
      "needs_background": "light"
     },
     "output_type": "display_data"
    }
   ],
   "source": [
    "# Generate phantom\n",
    "X,Y,Z,P = multi_axis.generate_tri_pris()\n",
    "\n",
    "# View in 2D\n",
    "multi_axis.plot_2d(X,Y,Z,P)\n",
    "\n",
    "# Rotate 90 about +x and view again\n",
    "Pr = multi_axis.rotate_bulk(P,90,0,0)\n",
    "multi_axis.plot_2d(X,Y,Z,Pr)"
   ]
  },
  {
   "cell_type": "code",
   "execution_count": 29,
   "metadata": {},
   "outputs": [
    {
     "data": {
      "text/plain": [
       "(10, 100, 100)"
      ]
     },
     "execution_count": 29,
     "metadata": {},
     "output_type": "execute_result"
    }
   ],
   "source": [
    "# Create tilt series about x\n",
    "ax,ay,az = 0,0,0\n",
    "\n",
    "P_projs = []\n",
    "vectors = []\n",
    "thetas = []\n",
    "for ax in np.linspace(-70,70,10):\n",
    "    vector = multi_axis.get_astravec(ax,ay,az)\n",
    "    vector[0:3] = np.array(multi_axis.rotation_matrix(ax,ay,az)).dot([0,0,1])\n",
    "    thetas.append(ax*np.pi/180)\n",
    "    vectors.append(vector)\n",
    "    P_rot = multi_axis.rotate_bulk(P,ax,ay,az)\n",
    "    P_rot_proj =np.flipud(np.mean(P_rot,axis=2).T)\n",
    "    P_projs.append(P_rot_proj)\n",
    "    \n",
    "raw_data = P_projs\n",
    "np.shape(raw_data)"
   ]
  },
  {
   "cell_type": "code",
   "execution_count": 30,
   "metadata": {},
   "outputs": [
    {
     "data": {
      "text/plain": [
       "(100, 10, 100)"
      ]
     },
     "execution_count": 30,
     "metadata": {},
     "output_type": "execute_result"
    }
   ],
   "source": [
    "# Prepare projections for reconstruction\n",
    "raw_data = np.array(raw_data)\n",
    "raw_data = raw_data -  raw_data.min()\n",
    "raw_data = raw_data/raw_data.max()\n",
    "raw_data = np.transpose(raw_data,axes=[1,0,2]) # reshape so z is middle column\n",
    "np.shape(raw_data)"
   ]
  },
  {
   "cell_type": "code",
   "execution_count": 31,
   "metadata": {},
   "outputs": [
    {
     "data": {
      "text/plain": [
       "<matplotlib.image.AxesImage at 0x7f9d623d3cf8>"
      ]
     },
     "execution_count": 31,
     "metadata": {},
     "output_type": "execute_result"
    },
    {
     "data": {
      "image/png": "[encoded data removed]",
      "text/plain": [
       "<Figure size 432x288 with 1 Axes>"
      ]
     },
     "metadata": {
      "needs_background": "light"
     },
     "output_type": "display_data"
    }
   ],
   "source": [
    "plt.imshow(raw_data[:,8,:])"
   ]
  },
  {
   "cell_type": "code",
   "execution_count": 21,
   "metadata": {
    "jupyter": {
     "source_hidden": true
    }
   },
   "outputs": [],
   "source": [
    "vectors = np.zeros((10,12))\n",
    "\n",
    "for i in range(10):\n",
    "    a = theta[i]\n",
    "    vectors[i,0:3] = [np.sin(a),0,-np.cos(a)] # ray direction r\n",
    "    vectors[i,3:6] = [0,0,0] # centre of detector\n",
    "    vectors[i,6:9] = [np.cos(a),0,np.sin(a)] # u (det +y)\n",
    "    vectors[i,9:12] = [0,1,0] # v (det +x)\n",
    "    \n",
    "proj_geom = astra.create_proj_geom('parallel3d_vec',100,100,vectors)"
   ]
  },
  {
   "cell_type": "code",
   "execution_count": 11,
   "metadata": {
    "collapsed": true,
    "jupyter": {
     "outputs_hidden": true,
     "source_hidden": true
    }
   },
   "outputs": [
    {
     "data": {
      "text/plain": [
       "array([-0.        , -0.93969262, -0.34202014,  0.        ,  0.        ,\n",
       "        0.        ,  1.        ,  0.        ,  0.        ,  0.        ,\n",
       "        0.34202014, -0.93969262])"
      ]
     },
     "execution_count": 11,
     "metadata": {},
     "output_type": "execute_result"
    }
   ],
   "source": [
    "def get_astravec(ax,ay,az):\n",
    "    \"\"\" Given angles in degrees, return r,d,u,v as a concatenation\n",
    "    of four 3-component vectors\"\"\"\n",
    "    # ray direction r\n",
    "    r = np.array(multi_axis.angle_to_vector(ax,ay,az))*-1\n",
    "    # centre of detector\n",
    "    d = [0,0,0]\n",
    "    \n",
    "    # 3D rotation matrix\n",
    "    mrot = np.array(multi_axis.rotation_matrix(ax,ay,az))\n",
    "    # u (det +x)\n",
    "    u = mrot.dot([1,0,0])\n",
    "    # v (det +y)\n",
    "    v = mrot.dot([0,1,0])\n",
    "\n",
    "    return np.concatenate((r,d,u,v))\n",
    "\n",
    "get_astravec(-70,0,0)"
   ]
  },
  {
   "cell_type": "code",
   "execution_count": 50,
   "metadata": {
    "collapsed": true,
    "jupyter": {
     "outputs_hidden": true,
     "source_hidden": true
    }
   },
   "outputs": [
    {
     "name": "stdout",
     "output_type": "stream",
     "text": [
      "[ 0.   0.9  0.3] [ 1.  0.  0.] [ 0.   0.3 -0.9]\n",
      "[ 0.   0.8  0.6] [ 1.  0.  0.] [ 0.   0.6 -0.8]\n",
      "[ 0.   0.6  0.8] [ 1.  0.  0.] [ 0.   0.8 -0.6]\n",
      "[ 0.   0.4  0.9] [ 1.  0.  0.] [ 0.   0.9 -0.4]\n",
      "[ 0.   0.1  1. ] [ 1.  0.  0.] [ 0.   1.  -0.1]\n",
      "[-0.  -0.1  1. ] [ 1.  0.  0.] [ 0.   1.   0.1]\n",
      "[-0.  -0.4  0.9] [ 1.  0.  0.] [ 0.   0.9  0.4]\n",
      "[-0.  -0.6  0.8] [ 1.  0.  0.] [ 0.   0.8  0.6]\n",
      "[-0.  -0.8  0.6] [ 1.  0.  0.] [ 0.   0.6  0.8]\n",
      "[-0.  -0.9  0.3] [ 1.  0.  0.] [ 0.   0.3  0.9]\n"
     ]
    }
   ],
   "source": [
    "for i in range(10):\n",
    "    a = theta[i] * 180/np.pi\n",
    "    v = multi_axis.angle_to_vector(a,0,0)\n",
    "    mrot = rotation_matrix(a,0,0)\n",
    "    xr = mrot.dot([1,0,0])\n",
    "    yr = mrot.dot([0,1,0])\n",
    "    print(np.round(v,decimals=1),xr,np.round(yr,decimals=1))"
   ]
  },
  {
   "cell_type": "code",
   "execution_count": 48,
   "metadata": {
    "jupyter": {
     "source_hidden": true
    }
   },
   "outputs": [],
   "source": [
    "def rotation_matrix(ax,ay,az):\n",
    "    \"\"\" \n",
    "    Generate 3D rotation matrix from rotation angles ax,ay,az \n",
    "    about the x,y,z axes (given in degrees) \n",
    "    (Uses convention of rotating about z, then y, then x)\n",
    "    \"\"\"\n",
    "\n",
    "    ax = ax * np.pi/180\n",
    "    Cx = np.cos(ax)\n",
    "    Sx = np.sin(ax)\n",
    "    mrotx = np.array([[1,0,0],[0,Cx,-Sx],[0,Sx,Cx]])\n",
    "    \n",
    "    ay = ay * np.pi/180\n",
    "    Cy = np.cos(ay)\n",
    "    Sy = np.sin(ay)\n",
    "    mroty = np.array([[Cy,0,Sy],[0,1,0],[-Sy,0,Cy]])\n",
    "    \n",
    "    az = az * np.pi/180\n",
    "    Cz = np.cos(az)\n",
    "    Sz = np.sin(az)\n",
    "    mrotz = np.array([[Cz,-Sz,0],[Sz,Cz,0],[0,0,1]])\n",
    "    \n",
    "    mrot = mrotz.dot(mroty).dot(mrotx)\n",
    "    \n",
    "    return mrot"
   ]
  },
  {
   "cell_type": "code",
   "execution_count": 6,
   "metadata": {
    "jupyter": {
     "source_hidden": true
    }
   },
   "outputs": [],
   "source": [
    "vol_geom = astra.create_vol_geom(raw_data.shape[0],raw_data.shape[1],raw_data.shape[2])\n",
    "\n",
    "proj_id = astra.data3d.create('-proj3d',proj_geom,raw_data)\n",
    "\n",
    "vol_id = astra.data3d.create('-vol',vol_geom,0)"
   ]
  },
  {
   "cell_type": "code",
   "execution_count": 32,
   "metadata": {},
   "outputs": [],
   "source": [
    "proj_geom = astra.create_proj_geom('parallel3d_vec',100,100,np.array(vectors))\n",
    "projections_id = astra.data3d.create('-sino', proj_geom, raw_data)\n",
    "# proj_geom = astra.create_proj_geom('parallel3d',1,1,100,100,np.array(thetas))\n",
    "# projections_id = astra.data3d.create('-sino', proj_geom, np.transpose(raw_data,axes=[2,1,0]))\n",
    "vol_geom = astra.creators.create_vol_geom(100, 100,\n",
    "                                          100)\n",
    "reconstruction_id = astra.data3d.create('-vol', vol_geom, data=0)\n",
    "alg_cfg = astra.astra_dict('SIRT3D_CUDA')\n",
    "alg_cfg['ProjectionDataId'] = projections_id\n",
    "alg_cfg['ReconstructionDataId'] = reconstruction_id\n",
    "algorithm_id = astra.algorithm.create(alg_cfg)"
   ]
  },
  {
   "cell_type": "code",
   "execution_count": 33,
   "metadata": {},
   "outputs": [
    {
     "data": {
      "text/plain": [
       "(100, 100, 100)"
      ]
     },
     "execution_count": 33,
     "metadata": {},
     "output_type": "execute_result"
    }
   ],
   "source": [
    "astra.algorithm.run(algorithm_id,iterations=10)\n",
    "reconstruction = astra.data3d.get(reconstruction_id)\n",
    "np.shape(reconstruction)"
   ]
  },
  {
   "cell_type": "code",
   "execution_count": 12,
   "metadata": {},
   "outputs": [],
   "source": [
    "reconstruction = np.transpose(reconstruction,[1,2,0])"
   ]
  },
  {
   "cell_type": "code",
   "execution_count": 92,
   "metadata": {
    "collapsed": true,
    "jupyter": {
     "outputs_hidden": true,
     "source_hidden": true
    }
   },
   "outputs": [
    {
     "ename": "NameError",
     "evalue": "name 'proj_id' is not defined",
     "output_type": "error",
     "traceback": [
      "\u001b[0;31m---------------------------------------------------------------------------\u001b[0m",
      "\u001b[0;31mNameError\u001b[0m                                 Traceback (most recent call last)",
      "\u001b[0;32m<ipython-input-92-c5ff8e295eb3>\u001b[0m in \u001b[0;36m<module>\u001b[0;34m\u001b[0m\n\u001b[1;32m      1\u001b[0m \u001b[0malg_cfg\u001b[0m \u001b[0;34m=\u001b[0m \u001b[0mastra\u001b[0m\u001b[0;34m.\u001b[0m\u001b[0mastra_dict\u001b[0m\u001b[0;34m(\u001b[0m\u001b[0;34m'SIRT3D_CUDA'\u001b[0m\u001b[0;34m)\u001b[0m\u001b[0;34m\u001b[0m\u001b[0;34m\u001b[0m\u001b[0m\n\u001b[0;32m----> 2\u001b[0;31m \u001b[0malg_cfg\u001b[0m\u001b[0;34m[\u001b[0m\u001b[0;34m'ProjectionDataID'\u001b[0m\u001b[0;34m]\u001b[0m \u001b[0;34m=\u001b[0m \u001b[0mproj_id\u001b[0m\u001b[0;34m\u001b[0m\u001b[0;34m\u001b[0m\u001b[0m\n\u001b[0m\u001b[1;32m      3\u001b[0m \u001b[0malg_cfg\u001b[0m\u001b[0;34m[\u001b[0m\u001b[0;34m'ReconstructionDataId'\u001b[0m\u001b[0;34m]\u001b[0m \u001b[0;34m=\u001b[0m \u001b[0mvol_id\u001b[0m\u001b[0;34m\u001b[0m\u001b[0;34m\u001b[0m\u001b[0m\n\u001b[1;32m      4\u001b[0m \u001b[0;31m#alg_id = astra.algorithm.create(alg_cfg)\u001b[0m\u001b[0;34m\u001b[0m\u001b[0;34m\u001b[0m\u001b[0;34m\u001b[0m\u001b[0m\n\u001b[1;32m      5\u001b[0m \u001b[0mastra\u001b[0m\u001b[0;34m.\u001b[0m\u001b[0malgorithm\u001b[0m\u001b[0;34m.\u001b[0m\u001b[0mcreate\u001b[0m\u001b[0;34m(\u001b[0m\u001b[0malg_cfg\u001b[0m\u001b[0;34m)\u001b[0m\u001b[0;34m\u001b[0m\u001b[0;34m\u001b[0m\u001b[0m\n",
      "\u001b[0;31mNameError\u001b[0m: name 'proj_id' is not defined"
     ]
    }
   ],
   "source": [
    "alg_cfg = astra.astra_dict('SIRT3D_CUDA')\n",
    "alg_cfg['ProjectionDataID'] = proj_id\n",
    "alg_cfg['ReconstructionDataId'] = vol_id\n",
    "#alg_id = astra.algorithm.create(alg_cfg)\n",
    "astra.algorithm.create(alg_cfg)\n",
    "\n",
    "# alg_cfg = astra.astra_dict('SIRT3D_CUDA')\n",
    "# alg_id = astra.algorithm.create(alg_cfg)"
   ]
  },
  {
   "cell_type": "code",
   "execution_count": 37,
   "metadata": {},
   "outputs": [
    {
     "data": {
      "text/plain": [
       "<matplotlib.image.AxesImage at 0x7f9d6262d8d0>"
      ]
     },
     "execution_count": 37,
     "metadata": {},
     "output_type": "execute_result"
    },
    {
     "data": {
      "image/png": "[encoded data removed]",
      "text/plain": [
       "<Figure size 432x288 with 1 Axes>"
      ]
     },
     "metadata": {
      "needs_background": "light"
     },
     "output_type": "display_data"
    }
   ],
   "source": [
    "plt.imshow(np.mean(recon_vector,axis=0))"
   ]
  },
  {
   "cell_type": "code",
   "execution_count": 14,
   "metadata": {},
   "outputs": [
    {
     "data": {
      "text/plain": [
       "<matplotlib.image.AxesImage at 0x7f9d699bfcc0>"
      ]
     },
     "execution_count": 14,
     "metadata": {},
     "output_type": "execute_result"
    },
    {
     "data": {
      "image/png": "[encoded data removed]",
      "text/plain": [
       "<Figure size 432x288 with 1 Axes>"
      ]
     },
     "metadata": {
      "needs_background": "light"
     },
     "output_type": "display_data"
    }
   ],
   "source": [
    "plt.imshow(np.mean(recon_normal,axis=0))"
   ]
  },
  {
   "cell_type": "code",
   "execution_count": 13,
   "metadata": {},
   "outputs": [],
   "source": [
    "recon_normal = copy.deepcopy(reconstruction)\n",
    "#recon_vector = copy.deepcopy(reconstruction)"
   ]
  },
  {
   "cell_type": "code",
   "execution_count": 38,
   "metadata": {},
   "outputs": [
    {
     "data": {
      "text/plain": [
       "-5.5531316e-05"
      ]
     },
     "execution_count": 38,
     "metadata": {},
     "output_type": "execute_result"
    }
   ],
   "source": [
    "np.sum(recon_vector-recon_normal)"
   ]
  },
  {
   "cell_type": "code",
   "execution_count": 41,
   "metadata": {},
   "outputs": [
    {
     "data": {
      "text/plain": [
       "<matplotlib.colorbar.Colorbar at 0x7f9d61a53828>"
      ]
     },
     "execution_count": 41,
     "metadata": {},
     "output_type": "execute_result"
    },
    {
     "data": {
      "image/png": "[encoded data removed]",
      "text/plain": [
       "<Figure size 432x288 with 2 Axes>"
      ]
     },
     "metadata": {
      "needs_background": "light"
     },
     "output_type": "display_data"
    }
   ],
   "source": [
    "a = recon_normal-recon_vector\n",
    "plt.imshow(np.mean(a,axis=0))\n",
    "plt.colorbar()"
   ]
  },
  {
   "cell_type": "code",
   "execution_count": 8,
   "metadata": {},
   "outputs": [],
   "source": [
    "# Create synthetic dataset\n",
    "from __future__ import division\n",
    " \n",
    "import numpy as np\n",
    "from os import mkdir\n",
    "from os.path import join, isdir\n",
    "from imageio import get_writer\n",
    " \n",
    "import astra\n",
    " \n",
    "# Configuration.\n",
    "distance_source_origin = 300  # [mm]\n",
    "distance_origin_detector = 100  # [mm]\n",
    "detector_pixel_size = 1.05  # [mm]\n",
    "detector_rows = 200  # Vertical size of detector [pixels].\n",
    "detector_cols = 200  # Horizontal size of detector [pixels].\n",
    "num_of_projections = 180\n",
    "angles = np.linspace(0, 2 * np.pi, num=num_of_projections, endpoint=False)\n",
    "output_dir = 'dataset'\n",
    " \n",
    "# Create phantom.\n",
    "vol_geom = astra.creators.create_vol_geom(detector_cols, detector_cols,\n",
    "                                          detector_rows)\n",
    "phantom = np.zeros((detector_rows, detector_cols, detector_cols))\n",
    "hb = 110  # Height of beam [pixels].\n",
    "wb = 40   # Width of beam [pixels].\n",
    "hc = 100  # Height of cavity in beam [pixels].\n",
    "wc = 30   # Width of cavity in beam [pixels].\n",
    "phantom[detector_rows // 2 - hb // 2 : detector_rows // 2 + hb // 2,\n",
    "        detector_cols // 2 - wb // 2 : detector_cols // 2 + wb // 2,\n",
    "        detector_cols // 2 - wb // 2 : detector_cols // 2 + wb // 2] = 1\n",
    "phantom[detector_rows // 2 - hc // 2 : detector_rows // 2 + hc // 2,\n",
    "        detector_cols // 2 - wc // 2 : detector_cols // 2 + wc // 2,\n",
    "        detector_cols // 2 - wc // 2 : detector_cols // 2 + wc // 2] = 0\n",
    "phantom[detector_rows // 2 - 5 :       detector_rows // 2 + 5,\n",
    "        detector_cols // 2 + wc // 2 : detector_cols // 2 + wb // 2,\n",
    "        detector_cols // 2 - 5 :       detector_cols // 2 + 5] = 0\n",
    "phantom_id = astra.data3d.create('-vol', vol_geom, data=phantom)\n",
    " \n",
    "# Create projections. With increasing angles, the projection are such that the\n",
    "# object is rotated clockwise. Slice zero is at the top of the object. The\n",
    "# projection from angle zero looks upwards from the bottom of the slice.\n",
    "proj_geom = \\\n",
    "  astra.create_proj_geom('cone', 1, 1, detector_rows, detector_cols, angles,\n",
    "                         (distance_source_origin + distance_origin_detector) /\n",
    "                         detector_pixel_size, 0)\n",
    "projections_id, projections = \\\n",
    "  astra.creators.create_sino3d_gpu(phantom_id, proj_geom, vol_geom)\n",
    "projections /= np.max(projections)\n",
    " \n",
    "# Apply Poisson noise.\n",
    "projections = np.random.poisson(projections * 10000) / 10000\n",
    "projections[projections > 1.1] = 1.1\n",
    "projections /= 1.1\n",
    " \n",
    "# Save projections.\n",
    "if not isdir(output_dir):\n",
    "    mkdir(output_dir)\n",
    "projections = np.round(projections * 65535).astype(np.uint16)\n",
    "for i in range(num_of_projections):\n",
    "    projection = projections[:, i, :]\n",
    "    with get_writer(join(output_dir, 'proj%04d.tif' %i)) as writer:\n",
    "        writer.append_data(projection, {'compress': 9})\n",
    " \n",
    "\n",
    "\n",
    "# Cleanup.\n",
    "astra.data3d.delete(projections_id)\n",
    "astra.data3d.delete(phantom_id)\n"
   ]
  },
  {
   "cell_type": "code",
   "execution_count": 28,
   "metadata": {},
   "outputs": [
    {
     "data": {
      "text/plain": [
       "(200, 180, 200)"
      ]
     },
     "execution_count": 28,
     "metadata": {},
     "output_type": "execute_result"
    }
   ],
   "source": [
    "np.shape(projections)"
   ]
  },
  {
   "cell_type": "code",
   "execution_count": 9,
   "metadata": {},
   "outputs": [],
   "source": [
    "import numpy as np\n",
    "from os import mkdir\n",
    "from os.path import join, isdir\n",
    "from imageio import imread, imwrite\n",
    " \n",
    "import astra\n",
    " \n",
    "# Configuration.\n",
    "distance_source_origin = 300  # [mm]\n",
    "distance_origin_detector = 100  # [mm]\n",
    "detector_pixel_size = 1.05  # [mm]\n",
    "detector_rows = 200  # Vertical size of detector [pixels].\n",
    "detector_cols = 200  # Horizontal size of detector [pixels].\n",
    "num_of_projections = 180\n",
    "angles = np.linspace(0, 2 * np.pi, num=num_of_projections, endpoint=False)\n",
    "input_dir = 'dataset'\n",
    "output_dir = 'reconstruction'\n",
    " \n",
    "# Load projections.\n",
    "projections = np.zeros((detector_rows, num_of_projections, detector_cols))\n",
    "for i in range(num_of_projections):\n",
    "    im = imread(join(input_dir, 'proj%04d.tif' % i)).astype(float)\n",
    "    im /= 65535\n",
    "    projections[:, i, :] = im\n",
    " \n",
    "# Copy projection images into ASTRA Toolbox.\n",
    "proj_geom = \\\n",
    "  astra.create_proj_geom('cone', 1, 1, detector_rows, detector_cols, angles,\n",
    "                         (distance_source_origin + distance_origin_detector) /\n",
    "                         detector_pixel_size, 0)\n",
    "projections_id = astra.data3d.create('-sino', proj_geom, projections)\n",
    " \n",
    "# Create reconstruction.\n",
    "vol_geom = astra.creators.create_vol_geom(detector_cols, detector_cols,\n",
    "                                          detector_rows)\n",
    "reconstruction_id = astra.data3d.create('-vol', vol_geom, data=0)\n",
    "alg_cfg = astra.astra_dict('FDK_CUDA')\n",
    "alg_cfg['ProjectionDataId'] = projections_id\n",
    "alg_cfg['ReconstructionDataId'] = reconstruction_id\n",
    "algorithm_id = astra.algorithm.create(alg_cfg)\n",
    "astra.algorithm.run(algorithm_id)\n",
    "reconstruction = astra.data3d.get(reconstruction_id)\n",
    " \n",
    "# Limit and scale reconstruction.\n",
    "reconstruction[reconstruction < 0] = 0\n",
    "reconstruction /= np.max(reconstruction)\n",
    "reconstruction = np.round(reconstruction * 255).astype(np.uint8)\n",
    " \n",
    "# Save reconstruction.\n",
    "if not isdir(output_dir):\n",
    "    mkdir(output_dir)\n",
    "for i in range(detector_rows):\n",
    "    im = reconstruction[i, :, :]\n",
    "    im = np.flipud(im)\n",
    "    imwrite(join(output_dir, 'reco%04d.png' % i), im)\n",
    " \n",
    "# Cleanup.\n",
    "astra.algorithm.delete(algorithm_id)\n",
    "astra.data3d.delete(reconstruction_id)\n",
    "astra.data3d.delete(projections_id)"
   ]
  },
  {
   "cell_type": "code",
   "execution_count": 15,
   "metadata": {},
   "outputs": [
    {
     "data": {
      "text/plain": [
       "<matplotlib.image.AxesImage at 0x7f724008fda0>"
      ]
     },
     "execution_count": 15,
     "metadata": {},
     "output_type": "execute_result"
    },
    {
     "data": {
      "image/png": "[encoded data removed]",
      "text/plain": [
       "<Figure size 432x288 with 1 Axes>"
      ]
     },
     "metadata": {
      "needs_background": "light"
     },
     "output_type": "display_data"
    }
   ],
   "source": [
    "plt.imshow(phantom[:,:,100])"
   ]
  },
  {
   "cell_type": "code",
   "execution_count": 14,
   "metadata": {},
   "outputs": [
    {
     "data": {
      "text/plain": [
       "<matplotlib.image.AxesImage at 0x7f7229e35cf8>"
      ]
     },
     "execution_count": 14,
     "metadata": {},
     "output_type": "execute_result"
    },
    {
     "data": {
      "image/png": "[encoded data removed]",
      "text/plain": [
       "<Figure size 432x288 with 1 Axes>"
      ]
     },
     "metadata": {
      "needs_background": "light"
     },
     "output_type": "display_data"
    }
   ],
   "source": [
    "plt.imshow(reconstruction[:,:,100])"
   ]
  },
  {
   "cell_type": "code",
   "execution_count": 27,
   "metadata": {},
   "outputs": [
    {
     "name": "stdout",
     "output_type": "stream",
     "text": [
      "[ 0. -1.  0.] [-0. -1.  0.]\n"
     ]
    }
   ],
   "source": [
    "ax,ay,az=90,0,0\n",
    "a = np.array(multi_axis.rotation_matrix(ax,ay,az)).dot([0,0,1])\n",
    "b = multi_axis.angle_to_vector(ax,ay,az)\n",
    "print(np.round(a,decimals=1),np.round(b,decimals=1))"
   ]
  },
  {
   "cell_type": "code",
   "execution_count": null,
   "metadata": {},
   "outputs": [],
   "source": []
  }
 ],
 "metadata": {
  "kernelspec": {
   "display_name": "Python 3",
   "language": "python",
   "name": "python3"
  },
  "language_info": {
   "codemirror_mode": {
    "name": "ipython",
    "version": 3
   },
   "file_extension": ".py",
   "mimetype": "text/x-python",
   "name": "python",
   "nbconvert_exporter": "python",
   "pygments_lexer": "ipython3",
   "version": "3.6.9"
  }
 },
 "nbformat": 4,
 "nbformat_minor": 4
}
